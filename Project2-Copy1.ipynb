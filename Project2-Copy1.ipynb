{
 "cells": [
  {
   "cell_type": "code",
   "execution_count": 21,
   "metadata": {
    "collapsed": true
   },
   "outputs": [],
   "source": [
    "import pandas as pd\n",
    "import numpy as np\n",
    "import os, os.path"
   ]
  },
  {
   "cell_type": "code",
   "execution_count": 22,
   "metadata": {
    "collapsed": true
   },
   "outputs": [],
   "source": [
    "features = [\"Tm\", \"Rec_ID\", \"AvgTamb\", \"AvgHamb\", \"AvgGSi00\", \"AvgTSi00\", \n",
    "            \"AvgSPN1_G\", \"AvgSPN1_D\", \"AvgWind_S\", \"AvgWind_D\", \"AvgAir_P\"]\n",
    "dataf = pd.DataFrame([], columns = features)"
   ]
  },
  {
   "cell_type": "code",
   "execution_count": 23,
   "metadata": {
    "collapsed": true
   },
   "outputs": [],
   "source": [
    "def is_non_zero_file(fpath):  \n",
    "    return os.path.isfile(fpath) and os.path.getsize(fpath) > 0"
   ]
  },
  {
   "cell_type": "code",
   "execution_count": 24,
   "metadata": {},
   "outputs": [
    {
     "name": "stdout",
     "output_type": "stream",
     "text": [
      "1122\n"
     ]
    }
   ],
   "source": [
    "# get all txt files from the directory init_dir and all sub-directories\n",
    "init_dir = \"401\"\n",
    "flist  = []\n",
    " \n",
    "for root, dirs, files in os.walk(init_dir):\n",
    "    try:\n",
    "        for f in files:\n",
    "            fullpath = os.path.join(root, f)\n",
    "            if (is_non_zero_file(fullpath)) & (os.path.splitext(fullpath)[1] == '.txt'):\n",
    "                flist.append(fullpath)\n",
    "    except Exception as e:\n",
    "        raise e\n",
    "        print( \"No files found here!\")\n",
    "# print(flist[1])\n",
    "print(len(flist))\n",
    "\n"
   ]
  },
  {
   "cell_type": "code",
   "execution_count": 26,
   "metadata": {
    "collapsed": true
   },
   "outputs": [],
   "source": [
    "avg_len = 10 # average for every 10 minutes\n",
    "seq_len = 18 #  3 hours * 6 (four is the number of 15 min intervals in 1 hour) \n",
    "\n",
    "channels = 32 # LSTM parameters/neurons\n"
   ]
  },
  {
   "cell_type": "code",
   "execution_count": 27,
   "metadata": {},
   "outputs": [
    {
     "name": "stdout",
     "output_type": "stream",
     "text": [
      "['AvgTamb', 'AvgHamb', 'AvgGSi00', 'AvgTSi00', 'AvgSPN1_G', 'AvgSPN1_D', 'AvgWind_S', 'AvgWind_D', 'AvgAir_P']\n",
      "9\n"
     ]
    }
   ],
   "source": [
    "# generate all the 15-min averages for all the files and all the telemetries available\n",
    "features_to_analyze = features[2:]\n",
    "print(features_to_analyze)\n",
    "featurs_len = len(features_to_analyze)\n",
    "print(featurs_len) "
   ]
  },
  {
   "cell_type": "code",
   "execution_count": 28,
   "metadata": {},
   "outputs": [
    {
     "name": "stdout",
     "output_type": "stream",
     "text": [
      "Total sequences: 160414\n"
     ]
    }
   ],
   "source": [
    "dataAvg = []\n",
    "\n",
    "# it's one day analysis \n",
    "\n",
    "for fullpath in flist:\n",
    "    # arrays for the 15 min means\n",
    "    data = pd.read_csv(fullpath,delimiter=\"\\t\")        \n",
    "    pd_len = data.shape[0]  # all length of the sequence\n",
    "    #     print(fullpath)\n",
    "    # and then average everything using 15 min reading\n",
    "    for i in range(0,pd_len-avg_len,avg_len):\n",
    "        seq_in = data.iloc[i:i + avg_len][features_to_analyze].mean()  # not inclusive the higher limit\n",
    "        seq_in = np.array(seq_in).reshape(featurs_len)\n",
    "        dataAvg.append(seq_in)\n",
    "    # and now for list of avg values make a test data    \n",
    "print(\"Total sequences: {}\".format(len(dataAvg)))"
   ]
  },
  {
   "cell_type": "code",
   "execution_count": 29,
   "metadata": {},
   "outputs": [
    {
     "data": {
      "text/plain": [
       "array([  2.88369000e+01,   7.82704000e+01,  -4.34000000e-02,\n",
       "         2.69092000e+01,   4.28880000e+00,   3.10970000e+00,\n",
       "         1.92600000e-01,   1.45167900e+02,   1.00240440e+03])"
      ]
     },
     "execution_count": 29,
     "metadata": {},
     "output_type": "execute_result"
    }
   ],
   "source": [
    "dataAvg[0]"
   ]
  },
  {
   "cell_type": "code",
   "execution_count": 30,
   "metadata": {},
   "outputs": [
    {
     "name": "stdout",
     "output_type": "stream",
     "text": [
      "Total sequences: 160395\n"
     ]
    }
   ],
   "source": [
    "dataX = []\n",
    "dataY = []\n",
    "\n",
    "# the predictor is AvgSPN1_D, it has index #5 in the array\n",
    "\n",
    "for element in range(0, len(dataAvg)-seq_len-1, 1):\n",
    "    # and now make a list of test data from avg values\n",
    "    Z = np.array(dataAvg[element:element+seq_len]).reshape(seq_len,featurs_len)\n",
    "    dataX.append(Z)\n",
    "    Z1 = np.array(dataAvg[(element+1):(element+seq_len+1)]).reshape(seq_len,featurs_len)\n",
    "    dataY.append(Z1[:,5]) # Output param has index 5  \n",
    "    \n",
    "print(\"Total sequences: {}\".format(len(dataX)))"
   ]
  },
  {
   "cell_type": "code",
   "execution_count": 31,
   "metadata": {},
   "outputs": [
    {
     "name": "stdout",
     "output_type": "stream",
     "text": [
      "Total sequences: 160395\n"
     ]
    },
    {
     "data": {
      "text/plain": [
       "18"
      ]
     },
     "execution_count": 31,
     "metadata": {},
     "output_type": "execute_result"
    }
   ],
   "source": [
    "print(\"Total sequences: {}\".format(len(dataY)))\n",
    "len(dataY[1])"
   ]
  },
  {
   "cell_type": "code",
   "execution_count": 32,
   "metadata": {},
   "outputs": [
    {
     "name": "stdout",
     "output_type": "stream",
     "text": [
      "(160395, 18, 9)\n"
     ]
    }
   ],
   "source": [
    "n_patterns = len(dataX)\n",
    "# reshape X to be [samples, time steps, features]\n",
    "X = np.reshape(dataX, (n_patterns, seq_len, featurs_len))\n",
    "print(X.shape)"
   ]
  },
  {
   "cell_type": "markdown",
   "metadata": {},
   "source": [
    "Normalize all the sequence, "
   ]
  },
  {
   "cell_type": "code",
   "execution_count": 33,
   "metadata": {
    "collapsed": true
   },
   "outputs": [],
   "source": [
    "Mx = X.max(axis=1).max(axis=0)\n",
    "Mn = X.min(axis=1).min(axis=0)\n",
    "M = X.mean(axis=1).mean(axis=0)\n",
    "MM = Mx-Mn"
   ]
  },
  {
   "cell_type": "code",
   "execution_count": 34,
   "metadata": {
    "scrolled": true
   },
   "outputs": [
    {
     "data": {
      "text/plain": [
       "(array([   37.3774,   100.8646,  1246.2757,    71.8775,  1288.753 ,\n",
       "          685.1596,     5.0233,   297.428 ,  1009.1737]),\n",
       " array([  2.18326000e+01,   3.77004000e+01,  -5.55200000e-01,\n",
       "          2.01636000e+01,   2.28670000e+00,   1.33910000e+00,\n",
       "         -4.97000000e-02,   6.60790000e+01,   9.95899100e+02]),\n",
       " array([  2.84886336e+01,   7.85908104e+01,   1.78506453e+02,\n",
       "          3.18733944e+01,   1.89840086e+02,   1.07767520e+02,\n",
       "          6.59120697e-01,   1.71581223e+02,   1.00275718e+03]),\n",
       " array([   15.5448,    63.1642,  1246.8309,    51.7139,  1286.4663,\n",
       "          683.8205,     5.073 ,   231.349 ,    13.2746]))"
      ]
     },
     "execution_count": 34,
     "metadata": {},
     "output_type": "execute_result"
    }
   ],
   "source": [
    "Mx, Mn, M, MM"
   ]
  },
  {
   "cell_type": "code",
   "execution_count": 35,
   "metadata": {},
   "outputs": [
    {
     "data": {
      "text/plain": [
       "(160395, 18, 9)"
      ]
     },
     "execution_count": 35,
     "metadata": {},
     "output_type": "execute_result"
    }
   ],
   "source": [
    "X.shape"
   ]
  },
  {
   "cell_type": "code",
   "execution_count": 36,
   "metadata": {
    "collapsed": true
   },
   "outputs": [],
   "source": [
    "for i in (range(X.shape[0])):\n",
    "    for j in (range(X.shape[1])):\n",
    "        X[i][j] -= M\n",
    "        X[i][j] /= MM"
   ]
  },
  {
   "cell_type": "code",
   "execution_count": 37,
   "metadata": {},
   "outputs": [
    {
     "name": "stdout",
     "output_type": "stream",
     "text": [
      "(160395, 18, 1)\n"
     ]
    }
   ],
   "source": [
    "Y = np.reshape(dataY, (n_patterns, seq_len, 1))\n",
    "print(Y.shape)"
   ]
  },
  {
   "cell_type": "code",
   "execution_count": 38,
   "metadata": {
    "collapsed": true
   },
   "outputs": [],
   "source": [
    "Y -= M[5]         \n",
    "Y /= MM[5]    "
   ]
  },
  {
   "cell_type": "code",
   "execution_count": 39,
   "metadata": {
    "collapsed": true
   },
   "outputs": [],
   "source": [
    "np.savez_compressed('data9', dataX=dataX, dataY=dataY, X=X, Y=Y)\n",
    "# X,Y normalized and reshaped"
   ]
  },
  {
   "cell_type": "code",
   "execution_count": 40,
   "metadata": {},
   "outputs": [],
   "source": [
    "DataSet = np.load('data9.npz')"
   ]
  },
  {
   "cell_type": "code",
   "execution_count": 41,
   "metadata": {},
   "outputs": [
    {
     "name": "stdout",
     "output_type": "stream",
     "text": [
      "160395\n",
      "(160395, 18, 9) (160395, 18, 1)\n"
     ]
    }
   ],
   "source": [
    "X = DataSet['X']\n",
    "Y = DataSet['Y']\n",
    "n_patterns = len(X)\n",
    "print(n_patterns)\n",
    "print(X.shape, Y.shape)"
   ]
  },
  {
   "cell_type": "code",
   "execution_count": 42,
   "metadata": {
    "collapsed": true
   },
   "outputs": [],
   "source": [
    "samples = X.shape[0]\n",
    "timesteps = X.shape[1]\n",
    "model_features = X.shape[2]\n"
   ]
  },
  {
   "cell_type": "code",
   "execution_count": 48,
   "metadata": {},
   "outputs": [],
   "source": [
    "import numpy as np\n",
    "import sys\n",
    "\n",
    "import keras\n",
    "from keras.models import Sequential, Model, load_model\n",
    "from keras.layers import Dense, LSTM, Dropout, Input\n",
    "from keras.optimizers import RMSprop, Adam\n",
    "\n",
    "from keras.layers import Dense\n",
    "from keras.layers import Embedding\n",
    "from keras.layers import LSTM\n",
    "from keras.layers import TimeDistributed\n",
    "from keras.models import Sequential\n",
    "from keras import layers\n",
    "from keras.optimizers import RMSprop\n",
    "from keras.layers import Activation, Dense\n",
    "\n",
    "from keras.callbacks import ModelCheckpoint\n",
    "from keras.utils import np_utils\n",
    "\n",
    "import tensorflow as tf"
   ]
  },
  {
   "cell_type": "code",
   "execution_count": 44,
   "metadata": {},
   "outputs": [
    {
     "name": "stdout",
     "output_type": "stream",
     "text": [
      "(160395, 18, 1)\n",
      "(160395, 18, 1)\n"
     ]
    }
   ],
   "source": [
    "print(Y.shape)\n",
    "# y = np.reshape(Y, (n_patterns, seq_len, 1))\n",
    "y = Y\n",
    "print(y.shape)"
   ]
  },
  {
   "cell_type": "code",
   "execution_count": 49,
   "metadata": {
    "collapsed": true
   },
   "outputs": [],
   "source": [
    "# define the checkpoint\n",
    "filepath=\"weights-improvement-{epoch:02d}-{loss:.4f}-gentext-Telemetry2.hdf5\"\n",
    "checkpoint = ModelCheckpoint(filepath, monitor='loss', verbose=1, save_best_only=True, mode='min')\n",
    "callbacks_list = [checkpoint]"
   ]
  },
  {
   "cell_type": "code",
   "execution_count": 61,
   "metadata": {
    "scrolled": false
   },
   "outputs": [
    {
     "name": "stderr",
     "output_type": "stream",
     "text": [
      "C:\\Users\\Igor\\Anaconda3\\envs\\tensorflow\\lib\\site-packages\\ipykernel_launcher.py:7: UserWarning: Update your `LSTM` call to the Keras 2 API: `LSTM(128, recurrent_dropout=0.3, return_sequences=True, input_shape=(18, 9), dropout=0.0)`\n",
      "  import sys\n"
     ]
    },
    {
     "name": "stdout",
     "output_type": "stream",
     "text": [
      "_________________________________________________________________\n",
      "Layer (type)                 Output Shape              Param #   \n",
      "=================================================================\n",
      "lstm_5 (LSTM)                (None, 18, 128)           70656     \n",
      "_________________________________________________________________\n",
      "time_distributed_3 (TimeDist (None, 18, 72)            9288      \n",
      "_________________________________________________________________\n",
      "activation_2 (Activation)    (None, 18, 72)            0         \n",
      "_________________________________________________________________\n",
      "dense_4 (Dense)              (None, 18, 1)             73        \n",
      "=================================================================\n",
      "Total params: 80,017\n",
      "Trainable params: 80,017\n",
      "Non-trainable params: 0\n",
      "_________________________________________________________________\n",
      "None\n",
      "Train on 152375 samples, validate on 8020 samples\n",
      "Epoch 1/15\n",
      "152352/152375 [============================>.] - ETA: 0s - loss: 0.0018Epoch 00000: loss improved from 0.01432 to 0.00180, saving model to weights-improvement-00-0.0018-gentext-Telemetry2.hdf5\n",
      "152375/152375 [==============================] - 86s - loss: 0.0018 - val_loss: 0.0012\n",
      "Epoch 2/15\n",
      "152352/152375 [============================>.] - ETA: 0s - loss: 0.0016Epoch 00001: loss improved from 0.00180 to 0.00158, saving model to weights-improvement-01-0.0016-gentext-Telemetry2.hdf5\n",
      "152375/152375 [==============================] - 86s - loss: 0.0016 - val_loss: 0.0012\n",
      "Epoch 3/15\n",
      "152352/152375 [============================>.] - ETA: 0s - loss: 0.0015Epoch 00002: loss improved from 0.00158 to 0.00154, saving model to weights-improvement-02-0.0015-gentext-Telemetry2.hdf5\n",
      "152375/152375 [==============================] - 84s - loss: 0.0015 - val_loss: 0.0012\n",
      "Epoch 4/15\n",
      "152352/152375 [============================>.] - ETA: 0s - loss: 0.0015Epoch 00003: loss improved from 0.00154 to 0.00151, saving model to weights-improvement-03-0.0015-gentext-Telemetry2.hdf5\n",
      "152375/152375 [==============================] - 84s - loss: 0.0015 - val_loss: 0.0012\n",
      "Epoch 5/15\n",
      "152320/152375 [============================>.] - ETA: 0s - loss: 0.0015Epoch 00004: loss improved from 0.00151 to 0.00148, saving model to weights-improvement-04-0.0015-gentext-Telemetry2.hdf5\n",
      "152375/152375 [==============================] - 84s - loss: 0.0015 - val_loss: 0.0012\n",
      "Epoch 6/15\n",
      "152320/152375 [============================>.] - ETA: 0s - loss: 0.0015Epoch 00005: loss improved from 0.00148 to 0.00146, saving model to weights-improvement-05-0.0015-gentext-Telemetry2.hdf5\n",
      "152375/152375 [==============================] - 85s - loss: 0.0015 - val_loss: 0.0012\n",
      "Epoch 7/15\n",
      "152320/152375 [============================>.] - ETA: 0s - loss: 0.0014Epoch 00006: loss improved from 0.00146 to 0.00144, saving model to weights-improvement-06-0.0014-gentext-Telemetry2.hdf5\n",
      "152375/152375 [==============================] - 85s - loss: 0.0014 - val_loss: 0.0012\n",
      "Epoch 8/15\n",
      "152320/152375 [============================>.] - ETA: 0s - loss: 0.0014Epoch 00007: loss improved from 0.00144 to 0.00142, saving model to weights-improvement-07-0.0014-gentext-Telemetry2.hdf5\n",
      "152375/152375 [==============================] - 85s - loss: 0.0014 - val_loss: 0.0012\n",
      "Epoch 9/15\n",
      "152288/152375 [============================>.] - ETA: 0s - loss: 0.0014Epoch 00008: loss improved from 0.00142 to 0.00140, saving model to weights-improvement-08-0.0014-gentext-Telemetry2.hdf5\n",
      "152375/152375 [==============================] - 85s - loss: 0.0014 - val_loss: 0.0012\n",
      "Epoch 10/15\n",
      "152288/152375 [============================>.] - ETA: 0s - loss: 0.0014Epoch 00009: loss improved from 0.00140 to 0.00138, saving model to weights-improvement-09-0.0014-gentext-Telemetry2.hdf5\n",
      "152375/152375 [==============================] - 85s - loss: 0.0014 - val_loss: 0.0012\n",
      "Epoch 11/15\n",
      "152320/152375 [============================>.] - ETA: 0s - loss: 0.0014Epoch 00010: loss improved from 0.00138 to 0.00136, saving model to weights-improvement-10-0.0014-gentext-Telemetry2.hdf5\n",
      "152375/152375 [==============================] - 85s - loss: 0.0014 - val_loss: 0.0012\n",
      "Epoch 12/15\n",
      "152320/152375 [============================>.] - ETA: 0s - loss: 0.0013Epoch 00011: loss improved from 0.00136 to 0.00134, saving model to weights-improvement-11-0.0013-gentext-Telemetry2.hdf5\n",
      "152375/152375 [==============================] - 85s - loss: 0.0013 - val_loss: 0.0012\n",
      "Epoch 13/15\n",
      "152320/152375 [============================>.] - ETA: 0s - loss: 0.0013Epoch 00012: loss improved from 0.00134 to 0.00132, saving model to weights-improvement-12-0.0013-gentext-Telemetry2.hdf5\n",
      "152375/152375 [==============================] - 85s - loss: 0.0013 - val_loss: 0.0012\n",
      "Epoch 14/15\n",
      "152288/152375 [============================>.] - ETA: 0s - loss: 0.0013Epoch 00013: loss improved from 0.00132 to 0.00130, saving model to weights-improvement-13-0.0013-gentext-Telemetry2.hdf5\n",
      "152375/152375 [==============================] - 85s - loss: 0.0013 - val_loss: 0.0013\n",
      "Epoch 15/15\n",
      "152288/152375 [============================>.] - ETA: 0s - loss: 0.0013Epoch 00014: loss improved from 0.00130 to 0.00128, saving model to weights-improvement-14-0.0013-gentext-Telemetry2.hdf5\n",
      "152375/152375 [==============================] - 85s - loss: 0.0013 - val_loss: 0.0012\n"
     ]
    }
   ],
   "source": [
    "# define LSTM configuration\n",
    "n_neurons = channels\n",
    "n_batch = 32\n",
    "n_epoch = 15\n",
    "# create LSTM\n",
    "model = Sequential()\n",
    "model.add(LSTM(channels, dropout_W=0.0, dropout_U=0.3, input_shape=(timesteps, model_features), return_sequences=True))\n",
    "\n",
    "# model.add(LSTM(channels, dropout_W=0.2, dropout_U=0.2, input_shape=(timesteps, channels, model_features), return_sequences=True))\n",
    "\n",
    "model.add(TimeDistributed(Dense(72)))\n",
    "model.add(Activation('relu'))\n",
    "model.add(Dense(1))\n",
    "# model.add(Activation('linear'))\n",
    "model.compile(loss='mean_squared_error', optimizer='adam')\n",
    "# mean_absolute_percentage_error\n",
    "print(model.summary())\n",
    "# train LSTM\n",
    "history = model.fit(X, y, epochs=n_epoch, batch_size=n_batch, verbose=1, \n",
    "          callbacks=callbacks_list, validation_split=0.05)\n",
    "# evaluate\n",
    "result = model.predict(X, batch_size=n_batch, verbose=0)\n"
   ]
  },
  {
   "cell_type": "code",
   "execution_count": 64,
   "metadata": {},
   "outputs": [
    {
     "name": "stdout",
     "output_type": "stream",
     "text": [
      "128 10 18\n"
     ]
    }
   ],
   "source": [
    "print(channels, avg_len, seq_len)"
   ]
  },
  {
   "cell_type": "code",
   "execution_count": 65,
   "metadata": {},
   "outputs": [
    {
     "name": "stdout",
     "output_type": "stream",
     "text": [
      "(160395, 18, 1)\n",
      "18\n"
     ]
    }
   ],
   "source": [
    "print(result.shape)\n",
    "print(len(result[0,:,0]))\n",
    "# for value in result[0,:,0]:\n",
    "#      print('%.1f' % value)"
   ]
  },
  {
   "cell_type": "code",
   "execution_count": 66,
   "metadata": {},
   "outputs": [
    {
     "name": "stdout",
     "output_type": "stream",
     "text": [
      "(160395, 18, 1)\n"
     ]
    }
   ],
   "source": [
    "print(y.shape)\n",
    "Y_original = y[:,y.shape[1]-1,0] \n",
    "Y_predicted = result[:,result.shape[1]-1,0]\n",
    "Res = Y_original - Y_predicted"
   ]
  },
  {
   "cell_type": "code",
   "execution_count": 67,
   "metadata": {},
   "outputs": [
    {
     "name": "stdout",
     "output_type": "stream",
     "text": [
      "(160395,)\n",
      "(160395,)\n"
     ]
    }
   ],
   "source": [
    "print(Res.shape)\n",
    "print(Y_original.shape)\n",
    "# print(R[0])"
   ]
  },
  {
   "cell_type": "code",
   "execution_count": 68,
   "metadata": {
    "scrolled": true
   },
   "outputs": [
    {
     "data": {
      "image/png": "[encoded data removed]",
      "text/plain": [
       "<matplotlib.figure.Figure at 0x2d7d10ad748>"
      ]
     },
     "metadata": {},
     "output_type": "display_data"
    }
   ],
   "source": [
    "import matplotlib.pyplot as plt\n",
    "from pandas import DataFrame\n",
    "results = DataFrame(Res)\n",
    "results.boxplot()\n",
    "plt.show()"
   ]
  },
  {
   "cell_type": "code",
   "execution_count": 69,
   "metadata": {
    "scrolled": true
   },
   "outputs": [
    {
     "data": {
      "image/png": "[encoded data removed]",
      "text/plain": [
       "<matplotlib.figure.Figure at 0x2d7d1081f98>"
      ]
     },
     "metadata": {},
     "output_type": "display_data"
    }
   ],
   "source": [
    "import matplotlib.pyplot as plt\n",
    "frm = 100\n",
    "to = 500\n",
    "intervals15min = range(frm, to)\n",
    "plt.title('Predicted and measured data')\n",
    "plt.legend()\n",
    "plt.plot(intervals15min, Y_original[intervals15min], 'ro', label='Y_original')\n",
    "plt.plot(intervals15min, Y_predicted[intervals15min], 'b', label='Y_predicted')\n",
    "plt.show()"
   ]
  },
  {
   "cell_type": "code",
   "execution_count": 60,
   "metadata": {},
   "outputs": [
    {
     "name": "stdout",
     "output_type": "stream",
     "text": [
      "[ 0.  0.  0.  0.  0.  0.  0.  0.  0.  0.  0.  0.  0.  0.  0.  0.  0.  0.\n",
      "  0.  0.  0.  0.  0.  0.  0.  0.  0.  0.  0.  0.  0.  0.  0.  0.  0.  0.\n",
      "  0.  0.  0.  0.  0.  0.  0.  0.  0.  0.  0.  0.  0.  0.]\n",
      "[-0.15314387 -0.1530418  -0.15284599 -0.15297629 -0.15323512 -0.15303931\n",
      " -0.15280928 -0.15279173 -0.15289337 -0.15280095 -0.15293183 -0.15300144\n",
      " -0.15273558 -0.15267182 -0.15316727 -0.15330912 -0.15325867 -0.15345843\n",
      " -0.15337303 -0.15296634 -0.15289688 -0.15311068 -0.15312998 -0.15306827\n",
      " -0.15331599 -0.15345024 -0.15359604 -0.15307017 -0.15293329 -0.15265559\n",
      " -0.15327607 -0.15313919 -0.15298608 -0.15292788 -0.15279978 -0.15291413\n",
      " -0.15291969 -0.15260133 -0.15240318 -0.15248595 -0.15260616 -0.15271554\n",
      " -0.15270984 -0.15298155 -0.15301606 -0.15298798 -0.15303741 -0.15301752\n",
      " -0.15287699 -0.15297512]\n"
     ]
    }
   ],
   "source": [
    "frm = 100\n",
    "to = 150\n",
    "intervals15min = range(frm, to)\n",
    "print( Y_predicted[intervals15min])\n",
    "print( Y_original[intervals15min])\n"
   ]
  },
  {
   "cell_type": "code",
   "execution_count": 58,
   "metadata": {},
   "outputs": [
    {
     "data": {
      "image/png": "[encoded data removed]",
      "text/plain": [
       "<matplotlib.figure.Figure at 0x2d7d10770b8>"
      ]
     },
     "metadata": {},
     "output_type": "display_data"
    }
   ],
   "source": [
    "import matplotlib.pyplot as plt\n",
    "loss = history.history['loss']\n",
    "val_loss = history.history['val_loss']\n",
    "epochs = range(1, len(loss) + 1)\n",
    "plt.plot(epochs, loss, 'bo', label='Training loss')\n",
    "plt.plot(epochs, val_loss, 'b', label='Validation loss')\n",
    "plt.title('Training and validation loss')\n",
    "plt.legend()\n",
    "plt.show()"
   ]
  },
  {
   "cell_type": "code",
   "execution_count": null,
   "metadata": {
    "collapsed": true
   },
   "outputs": [],
   "source": []
  }
 ],
 "metadata": {
  "kernelspec": {
   "display_name": "Python 3",
   "language": "python",
   "name": "python3"
  },
  "language_info": {
   "codemirror_mode": {
    "name": "ipython",
    "version": 3
   },
   "file_extension": ".py",
   "mimetype": "text/x-python",
   "name": "python",
   "nbconvert_exporter": "python",
   "pygments_lexer": "ipython3",
   "version": "3.5.4"
  }
 },
 "nbformat": 4,
 "nbformat_minor": 1
}
